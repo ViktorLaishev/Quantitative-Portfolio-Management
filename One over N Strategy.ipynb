{
 "cells": [
  {
   "cell_type": "code",
   "execution_count": 6,
   "id": "e3a68dc2",
   "metadata": {},
   "outputs": [],
   "source": [
    "import pandas as pd\n",
    "import numpy as np \n",
    "import matplotlib.pyplot as plt\n"
   ]
  },
  {
   "cell_type": "code",
   "execution_count": 7,
   "id": "6139e383",
   "metadata": {},
   "outputs": [
    {
     "ename": "NameError",
     "evalue": "name 'options1' is not defined",
     "output_type": "error",
     "traceback": [
      "\u001b[1;31m---------------------------------------------------------------------------\u001b[0m",
      "\u001b[1;31mNameError\u001b[0m                                 Traceback (most recent call last)",
      "Input \u001b[1;32mIn [7]\u001b[0m, in \u001b[0;36m<cell line: 6>\u001b[1;34m()\u001b[0m\n\u001b[0;32m      4\u001b[0m gold \u001b[38;5;241m=\u001b[39m \u001b[38;5;124m'\u001b[39m\u001b[38;5;124mPrice History_IAU_Gold_Trust.xlsx\u001b[39m\u001b[38;5;124m'\u001b[39m\n\u001b[0;32m      5\u001b[0m \u001b[38;5;66;03m# Load the Excel file into a DataFrame\u001b[39;00m\n\u001b[1;32m----> 6\u001b[0m df \u001b[38;5;241m=\u001b[39m pd\u001b[38;5;241m.\u001b[39mread_excel(\u001b[43moptions1\u001b[49m)\n",
      "\u001b[1;31mNameError\u001b[0m: name 'options1' is not defined"
     ]
    }
   ],
   "source": [
    "bond1 = 'Price History_20+_US_TBills.xlsx'\n",
    "bond2 = 'Price History_7-10_US_TBills.xlsx'\n",
    "equity = 'Price History_IVV_US_Equity.xlsx'\n",
    "gold = 'Price History_IAU_Gold_Trust.xlsx'\n",
    "# Load the Excel file into a DataFrame\n",
    "df = pd.read_excel(options1)\n"
   ]
  },
  {
   "cell_type": "code",
   "execution_count": null,
   "id": "d65ab8d4",
   "metadata": {},
   "outputs": [],
   "source": [
    "def simulate_investment(file_path, initial_money):\n",
    "    \"\"\"\n",
    "    Simulates an investment in a single asset using its closing prices.\n",
    "    Handles missing or corrupted data and ensures proper date parsing.\n",
    "    \n",
    "    Args:\n",
    "        file_path (str): Path to the Excel file containing asset data.\n",
    "        initial_money (float): Initial amount of money to invest.\n",
    "    Returns:\n",
    "        float: Final value of the investment.\n",
    "    \"\"\"\n",
    "    # Load the Excel file into a DataFrame\n",
    "    data = pd.read_excel(file_path)\n",
    "    \n",
    "    # Ensure 'Exchange Date' is a datetime type\n",
    "    data['Exchange Date'] = pd.to_datetime(data['Exchange Date'], errors='coerce')\n",
    "    \n",
    "    # Convert 'Close' to numeric and handle errors\n",
    "    data['Close'] = pd.to_numeric(data['Close'], errors='coerce')\n",
    "    \n",
    "    # Drop rows with missing or invalid values\n",
    "    data = data.dropna(subset=['Exchange Date', 'Close'])\n",
    "    \n",
    "    # Sort data by date\n",
    "    data = data.sort_values(by='Exchange Date')\n",
    "    \n",
    "    # Debugging: Print data info and ranges\n",
    "    print(f\"Data Range: {data['Exchange Date'].iloc[0]} to {data['Exchange Date'].iloc[-1]}\")\n",
    "    print(f\"Initial few rows:\\n{data.head()}\")\n",
    "    print(f\"Last few rows:\\n{data.tail()}\")\n",
    "    \n",
    "    # Extract closing prices and dates\n",
    "    dates = data['Exchange Date']\n",
    "    closing_prices = data['Close']\n",
    "    \n",
    "    # Check if data is valid\n",
    "    if closing_prices.empty:\n",
    "        print(\"Error: No valid closing prices found.\")\n",
    "        return None\n",
    "    \n",
    "    # Calculate the number of units purchased on the first day\n",
    "    initial_price = closing_prices.iloc[0]\n",
    "    units = initial_money / initial_price\n",
    "    \n",
    "    # Calculate portfolio value over time\n",
    "    portfolio_values = units * closing_prices\n",
    "    \n",
    "    # Plot the portfolio value over time (spanning full date range)\n",
    "    plt.figure(figsize=(14, 7))\n",
    "    plt.plot(dates, portfolio_values, label='Portfolio Value', color='blue')\n",
    "    plt.title(\"Investment Growth Over Time\")\n",
    "    plt.xlabel(\"Date\")\n",
    "    plt.ylabel(\"Portfolio Value (USD)\")\n",
    "    plt.legend()\n",
    "    plt.grid()\n",
    "    plt.xlim([dates.iloc[0], dates.iloc[-1]])  # Ensure graph spans from earliest to latest date\n",
    "    plt.tight_layout()\n",
    "    plt.show()\n",
    "    \n",
    "    # Return the final portfolio value\n",
    "    final_value = portfolio_values.iloc[-1]\n",
    "    percent = (final_value / capital)*100\n",
    "    return f\"Portfolio Value: ${final_value:,.2f}\""
   ]
  },
  {
   "cell_type": "code",
   "execution_count": 15,
   "id": "0b74e57c",
   "metadata": {},
   "outputs": [],
   "source": [
    "def simulate_portfolio(file_paths, initial_money):\n",
    "    \"\"\"\n",
    "    Simulates a portfolio investment in multiple assets using the 1/N strategy.\n",
    "    Calculates common investment metrics including VaR.\n",
    "    \n",
    "    Args:\n",
    "        file_paths (list): List of file paths to the Excel files for each asset.\n",
    "        initial_money (float): Total initial amount of money to invest.\n",
    "    Returns:\n",
    "        dict: A dictionary containing final portfolio value and investment metrics.\n",
    "    \"\"\"\n",
    "    # Remove duplicate file paths\n",
    "    unique_file_paths = list(set(file_paths))\n",
    "    \n",
    "    # Determine allocation per asset\n",
    "    n_assets = len(unique_file_paths)\n",
    "    if n_assets == 0:\n",
    "        return {\"Error\": \"No valid assets provided.\"}\n",
    "    \n",
    "    money_per_asset = initial_money / n_assets\n",
    "    \n",
    "    # Dictionary to store individual asset portfolio values over time\n",
    "    all_portfolio_values = {}\n",
    "    \n",
    "    # Iterate through each unique file and simulate investment\n",
    "    for file_path in unique_file_paths:\n",
    "        # Load the Excel file into a DataFrame\n",
    "        data = pd.read_excel(file_path)\n",
    "        \n",
    "        # Ensure 'Exchange Date' is a datetime type\n",
    "        data['Exchange Date'] = pd.to_datetime(data['Exchange Date'], errors='coerce')\n",
    "        \n",
    "        # Convert 'Close' to numeric and handle errors\n",
    "        data['Close'] = pd.to_numeric(data['Close'], errors='coerce')\n",
    "        \n",
    "        # Drop rows with missing or invalid values\n",
    "        data = data.dropna(subset=['Exchange Date', 'Close'])\n",
    "        \n",
    "        # Sort data by date\n",
    "        data = data.sort_values(by='Exchange Date')\n",
    "        \n",
    "        # Extract closing prices and dates\n",
    "        dates = data['Exchange Date']\n",
    "        closing_prices = data['Close']\n",
    "        \n",
    "        # Calculate the number of units purchased on the first day\n",
    "        initial_price = closing_prices.iloc[0]\n",
    "        units = money_per_asset / initial_price\n",
    "        \n",
    "        # Calculate portfolio value over time\n",
    "        portfolio_values = units * closing_prices\n",
    "        \n",
    "        # Store the portfolio values with corresponding dates\n",
    "        all_portfolio_values[file_path] = pd.DataFrame({\n",
    "            'Date': dates,\n",
    "            'Portfolio Value': portfolio_values\n",
    "        })\n",
    "    \n",
    "    # Combine all portfolio values into a single DataFrame\n",
    "    combined_data = pd.concat([df.set_index('Date') for df in all_portfolio_values.values()], axis=1)\n",
    "    combined_data['Total Portfolio Value'] = combined_data.sum(axis=1)\n",
    "    combined_data = combined_data.sort_index()  # Ensure sorted by date\n",
    "    \n",
    "    # Portfolio value over time\n",
    "    portfolio_values = combined_data['Total Portfolio Value']\n",
    "    \n",
    "    # Metrics Calculation\n",
    "    starting_value = portfolio_values.iloc[0]\n",
    "    ending_value = portfolio_values.iloc[-1]\n",
    "    total_days = (portfolio_values.index[-1] - portfolio_values.index[0]).days\n",
    "    total_years = total_days / 365.0\n",
    "    \n",
    "    # 1. CAGR\n",
    "    cagr = ((ending_value / starting_value) ** (1 / total_years)) - 1\n",
    "    \n",
    "    # 2. Volatility (Standard Deviation of Daily Returns)\n",
    "    daily_returns = portfolio_values.pct_change().dropna()\n",
    "    volatility = daily_returns.std() * np.sqrt(252)  # Annualized volatility\n",
    "    \n",
    "    # 3. Max Drawdown\n",
    "    rolling_max = portfolio_values.cummax()\n",
    "    drawdowns = (portfolio_values - rolling_max) / rolling_max\n",
    "    max_drawdown = drawdowns.min()\n",
    "    \n",
    "    # 4. Sharpe Ratio (assuming risk-free rate = 0 for simplicity)\n",
    "    sharpe_ratio = daily_returns.mean() / daily_returns.std() * np.sqrt(252)\n",
    "    \n",
    "    # 5. Value at Risk (99% Confidence)\n",
    "    var_99 = daily_returns.quantile(0.01)  # 1st percentile of returns\n",
    "    \n",
    "    # Plot the combined portfolio value over time\n",
    "    plt.figure(figsize=(14, 7))\n",
    "    plt.plot(combined_data.index, portfolio_values, label='Total Portfolio Value', color='blue')\n",
    "    plt.title(\"Portfolio Growth Over Time (1/N Strategy)\")\n",
    "    plt.xlabel(\"Date\")\n",
    "    plt.ylabel(\"Portfolio Value (USD)\")\n",
    "    plt.legend()\n",
    "    plt.grid()\n",
    "    plt.tight_layout()\n",
    "    plt.show()\n",
    "    \n",
    "    # Return metrics and final portfolio value\n",
    "    return {\n",
    "        \"Final Portfolio Value\": f\"${ending_value:,.2f}\",\n",
    "        \"CAGR\": f\"{cagr:.2%}\",\n",
    "        \"Volatility\": f\"{volatility:.2%}\",\n",
    "        \"Max Drawdown\": f\"{max_drawdown:.2%}\",\n",
    "        \"Sharpe Ratio\": f\"{sharpe_ratio:.2f}\",\n",
    "        \"99% VaR\": f\"{var_99:.2%} \"\n",
    "    }"
   ]
  },
  {
   "cell_type": "code",
   "execution_count": 16,
   "id": "5a76e987",
   "metadata": {},
   "outputs": [],
   "source": [
    "capital = 1000000"
   ]
  },
  {
   "cell_type": "code",
   "execution_count": 17,
   "id": "e6030b49",
   "metadata": {},
   "outputs": [],
   "source": [
    "file_paths = [gold, equity]"
   ]
  },
  {
   "cell_type": "code",
   "execution_count": 18,
   "id": "64f7e5a7",
   "metadata": {},
   "outputs": [
    {
     "data": {
      "image/png": "[encoded data removed]",
      "text/plain": [
       "<Figure size 1008x504 with 1 Axes>"
      ]
     },
     "metadata": {
      "needs_background": "light"
     },
     "output_type": "display_data"
    },
    {
     "data": {
      "text/plain": [
       "{'Final Portfolio Value': '$5,450,875.01',\n",
       " 'CAGR': '12.72%',\n",
       " 'Volatility': '26.62%',\n",
       " 'Max Drawdown': '-30.79%',\n",
       " 'Sharpe Ratio': '0.55',\n",
       " '99% VaR': '-2.39% '}"
      ]
     },
     "execution_count": 18,
     "metadata": {},
     "output_type": "execute_result"
    }
   ],
   "source": [
    "simulate_portfolio(file_paths, capital)\n",
    "##simulate_investment(options1, capital)"
   ]
  },
  {
   "cell_type": "code",
   "execution_count": null,
   "id": "65a288e0",
   "metadata": {},
   "outputs": [],
   "source": []
  },
  {
   "cell_type": "code",
   "execution_count": null,
   "id": "d49c5944",
   "metadata": {},
   "outputs": [],
   "source": []
  }
 ],
 "metadata": {
  "kernelspec": {
   "display_name": "Python 3 (ipykernel)",
   "language": "python",
   "name": "python3"
  },
  "language_info": {
   "codemirror_mode": {
    "name": "ipython",
    "version": 3
   },
   "file_extension": ".py",
   "mimetype": "text/x-python",
   "name": "python",
   "nbconvert_exporter": "python",
   "pygments_lexer": "ipython3",
   "version": "3.9.5"
  }
 },
 "nbformat": 4,
 "nbformat_minor": 5
}
